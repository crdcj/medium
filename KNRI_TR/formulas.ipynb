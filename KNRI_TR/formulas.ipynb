{
 "cells": [
  {
   "cell_type": "markdown",
   "metadata": {},
   "source": [
    "$$ \\text{quantidade de novas cotas =}  \\frac{dividendo}{\\text{preço de fechamento na data-ex}} $$"
   ]
  },
  {
   "attachments": {},
   "cell_type": "markdown",
   "metadata": {},
   "source": [
    "$$ \\text{(preço abertura teorico)}_\\text{data-ex} = \\text{(preço fechamento)}_\\text{data-com} \\text{ - dividendo} $$"
   ]
  },
  {
   "attachments": {},
   "cell_type": "markdown",
   "metadata": {},
   "source": [
    "$$ \\text{participação acumulada} = \\prod_{i=1}^n(1+\\frac{\\text{dividendo}_i}{\\text{preço}_i}) $$"
   ]
  },
  {
   "cell_type": "markdown",
   "metadata": {},
   "source": []
  }
 ],
 "metadata": {
  "kernelspec": {
   "display_name": "medium",
   "language": "python",
   "name": "python3"
  },
  "language_info": {
   "name": "python",
   "version": "3.11.0 | packaged by conda-forge | (main, Oct 25 2022, 06:24:40) [GCC 10.4.0]"
  },
  "orig_nbformat": 4,
  "vscode": {
   "interpreter": {
    "hash": "89fb880442cd04afb2576ad16107ecf1f6f849ade045ea59264a533f4dece784"
   }
  }
 },
 "nbformat": 4,
 "nbformat_minor": 2
}
